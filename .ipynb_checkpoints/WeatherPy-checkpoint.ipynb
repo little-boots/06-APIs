{
 "cells": [
  {
   "cell_type": "markdown",
   "metadata": {},
   "source": [
    "# WeatherPy\n",
    "----\n",
    "\n",
    "#### Note\n",
    "* Instructions have been included for each segment. You do not have to follow them exactly, but they are included to help you think through the steps."
   ]
  },
  {
   "cell_type": "code",
   "execution_count": 7,
   "metadata": {
    "scrolled": true
   },
   "outputs": [],
   "source": [
    "# Dependencies and Setup\n",
    "import matplotlib.pyplot as plt\n",
    "import pandas as pd\n",
    "import numpy as np\n",
    "import requests\n",
    "import time\n",
    "import gmaps\n",
    "import math\n",
    "import json\n",
    "\n",
    "# Import API key\n",
    "import api_keys\n",
    "from api_keys import wm_api_key, g_api_key\n",
    "\n",
    "# Incorporated citipy to determine city based on latitude and longitude\n",
    "from citipy import citipy\n",
    "\n",
    "# Range of latitudes and longitudes\n",
    "lat_range = (-90, 90)\n",
    "lng_range = (-180, 180)"
   ]
  },
  {
   "cell_type": "markdown",
   "metadata": {},
   "source": [
    "## Generate Cities List"
   ]
  },
  {
   "cell_type": "code",
   "execution_count": 2,
   "metadata": {},
   "outputs": [
    {
     "name": "stdout",
     "output_type": "stream",
     "text": [
      "City            569\n",
      "Country Code    569\n",
      "Lat (appx.)     569\n",
      "Lng (appx.)     569\n",
      "dtype: int64\n"
     ]
    }
   ],
   "source": [
    "# Module I wrote to create a more uniform sample\n",
    "from worldGrid import getLattice\n",
    "\n",
    "# Create a lattice of ~1000 roughly evenly spaced points on Earth\n",
    "lattice = getLattice(1000)\n",
    "cities = {}\n",
    "\n",
    "for coords in lattice:\n",
    "    city = citipy.nearest_city(coords[0], coords[1])\n",
    "    if city not in cities:\n",
    "         cities[city] = (coords[0], coords[1])\n",
    "        \n",
    "cities_df = pd.DataFrame({\"City\": [city.city_name for city in cities.keys()],\n",
    "                          \"Country Code\": [city.country_code for city in cities.keys()],\n",
    "                          \"Lat (appx.)\": [coord[0] for coord in cities.values()],\n",
    "                          \"Lng (appx.)\": [coord[1] for coord in cities.values()]})    \n",
    "cities_df.head()\n",
    "\n",
    "print(cities_df.count())\n",
    "    \n",
    "cities_df.to_csv(\"locations.csv\")"
   ]
  },
  {
   "cell_type": "markdown",
   "metadata": {},
   "source": [
    "## Plot all chosen cities to check distribution"
   ]
  },
  {
   "cell_type": "code",
   "execution_count": 3,
   "metadata": {},
   "outputs": [
    {
     "data": {
      "text/html": [
       "<div>\n",
       "<style scoped>\n",
       "    .dataframe tbody tr th:only-of-type {\n",
       "        vertical-align: middle;\n",
       "    }\n",
       "\n",
       "    .dataframe tbody tr th {\n",
       "        vertical-align: top;\n",
       "    }\n",
       "\n",
       "    .dataframe thead th {\n",
       "        text-align: right;\n",
       "    }\n",
       "</style>\n",
       "<table border=\"1\" class=\"dataframe\">\n",
       "  <thead>\n",
       "    <tr style=\"text-align: right;\">\n",
       "      <th></th>\n",
       "      <th>Unnamed: 0</th>\n",
       "      <th>City</th>\n",
       "      <th>Country Code</th>\n",
       "      <th>Lat (appx.)</th>\n",
       "      <th>Lng (appx.)</th>\n",
       "    </tr>\n",
       "  </thead>\n",
       "  <tbody>\n",
       "    <tr>\n",
       "      <th>0</th>\n",
       "      <td>0</td>\n",
       "      <td>vaini</td>\n",
       "      <td>to</td>\n",
       "      <td>-83.577153</td>\n",
       "      <td>-180.000000</td>\n",
       "    </tr>\n",
       "    <tr>\n",
       "      <th>1</th>\n",
       "      <td>1</td>\n",
       "      <td>punta arenas</td>\n",
       "      <td>cl</td>\n",
       "      <td>-83.577153</td>\n",
       "      <td>-122.584044</td>\n",
       "    </tr>\n",
       "    <tr>\n",
       "      <th>2</th>\n",
       "      <td>2</td>\n",
       "      <td>ushuaia</td>\n",
       "      <td>ar</td>\n",
       "      <td>-83.577153</td>\n",
       "      <td>-65.168089</td>\n",
       "    </tr>\n",
       "    <tr>\n",
       "      <th>3</th>\n",
       "      <td>3</td>\n",
       "      <td>hermanus</td>\n",
       "      <td>za</td>\n",
       "      <td>-83.577153</td>\n",
       "      <td>-7.752133</td>\n",
       "    </tr>\n",
       "    <tr>\n",
       "      <th>4</th>\n",
       "      <td>4</td>\n",
       "      <td>port alfred</td>\n",
       "      <td>za</td>\n",
       "      <td>-83.577153</td>\n",
       "      <td>49.663823</td>\n",
       "    </tr>\n",
       "  </tbody>\n",
       "</table>\n",
       "</div>"
      ],
      "text/plain": [
       "   Unnamed: 0          City Country Code  Lat (appx.)  Lng (appx.)\n",
       "0           0         vaini           to   -83.577153  -180.000000\n",
       "1           1  punta arenas           cl   -83.577153  -122.584044\n",
       "2           2       ushuaia           ar   -83.577153   -65.168089\n",
       "3           3      hermanus           za   -83.577153    -7.752133\n",
       "4           4   port alfred           za   -83.577153    49.663823"
      ]
     },
     "execution_count": 3,
     "metadata": {},
     "output_type": "execute_result"
    }
   ],
   "source": [
    "# Import CSV created above\n",
    "locations_df = pd.read_csv(\"locations.csv\")\n",
    "locations_df.head()"
   ]
  },
  {
   "cell_type": "code",
   "execution_count": 4,
   "metadata": {},
   "outputs": [],
   "source": [
    "# Show which points were generated to test lattice code\n"
   ]
  },
  {
   "cell_type": "code",
   "execution_count": 5,
   "metadata": {},
   "outputs": [
    {
     "data": {
      "application/vnd.jupyter.widget-view+json": {
       "model_id": "580edfc9aabd40feb87a9af9e7da5c82",
       "version_major": 2,
       "version_minor": 0
      },
      "text/plain": [
       "Figure(layout=FigureLayout(height='420px'))"
      ]
     },
     "metadata": {},
     "output_type": "display_data"
    }
   ],
   "source": [
    "# Show which points were actually selcted to test assignment code\n",
    "# This was working previously, but now there is an issue with my key\n",
    "#\n",
    "# Configure API\n",
    "gmaps.configure(api_key=g_api_key)\n",
    "\n",
    "# Plot Heatmap\n",
    "fig = gmaps.figure()\n",
    "\n",
    "# Create heat layer\n",
    "heat_layer = gmaps.heatmap_layer(locations_df[[\"Lat (appx.)\", \"Lng (appx.)\"]],\n",
    "                                 dissipating=False, \n",
    "                                 max_intensity=10,\n",
    "                                 point_radius=3)\n",
    "\n",
    "\n",
    "# Add layer\n",
    "fig.add_layer(heat_layer)\n",
    "\n",
    "# Check the map to see if we have roughly even cover\n",
    "fig"
   ]
  },
  {
   "cell_type": "markdown",
   "metadata": {},
   "source": [
    "### Perform API Calls\n",
    "* Perform a weather check on each city using a series of successive API calls.\n",
    "* Include a print log of each city as it'sbeing processed (with the city number and city name).\n"
   ]
  },
  {
   "cell_type": "code",
   "execution_count": null,
   "metadata": {},
   "outputs": [],
   "source": [
    "base_url = \"https://api.openweathermap.org/data/2.5/weather?q=\"\n",
    "appid = f\"&APPID={wm_api_key}\"\n",
    "responses = []\n",
    "issues = []\n",
    "\n",
    "for index, row in locations_df.iterrows():\n",
    "    city = row[\"City\"]\n",
    "    cc = row[\"Country Code\"]\n",
    "    \n",
    "    query = f\"{city},{cc}\"\n",
    "    \n",
    "    try:\n",
    "        response = requests.get(base_url + query + appid)\n",
    "    except:\n",
    "        issues.append(query)\n",
    "    else:\n",
    "        responses.append(response)"
   ]
  },
  {
   "cell_type": "code",
   "execution_count": null,
   "metadata": {},
   "outputs": [],
   "source": [
    "# Output responses to DataFrame (had trouble with this)\n",
    "\n",
    "lats = []\n",
    "lngs = []\n",
    "temps = []\n",
    "clouds = []\n",
    "humids = []\n",
    "winds = []\n",
    "\n",
    "# TODO: Write a function for this\n",
    "\n",
    "for response in responses:\n",
    "    json = response.json()\n",
    "    # Latitude\n",
    "    try:\n",
    "        lat = json[\"coord\"]['lat']\n",
    "    except KeyError:\n",
    "        lats.append(None)\n",
    "    else:\n",
    "        lats.append(lat)\n",
    "        \n",
    "    # Longitude\n",
    "    try:\n",
    "        lng = json[\"coord\"]['long']\n",
    "    except KeyError:\n",
    "        lngs.append(None)\n",
    "    else:\n",
    "        lngs.append(lng)\n",
    "        \n",
    "    # Temperature\n",
    "    try:\n",
    "        temp = json[\"main\"]['temp']\n",
    "    except KeyError:\n",
    "        temps.append(None)\n",
    "    else:\n",
    "        temps.append(temp)\n",
    "        \n",
    "    # Clouds\n",
    "    try:\n",
    "        cloud = json[\"main\"]['clouds']['all']\n",
    "    except KeyError:\n",
    "        clouds.append(None)\n",
    "    else:\n",
    "        clouds.append(cloud)\n",
    "        \n",
    "    # Humidity\n",
    "    try:\n",
    "        humid = json[\"main\"]['humidity']\n",
    "    except KeyError:\n",
    "        humids.append(None)\n",
    "    else:\n",
    "        humids.append(humid)\n",
    "        \n",
    "    # Wind\n",
    "    try:\n",
    "        wind = json[\"main\"]['wind']['speed']\n",
    "    except KeyError:\n",
    "        winds.append(None)\n",
    "    else:\n",
    "        winds.append(wind)\n",
    "    \n",
    "responses_df = pd.DataFrame({\"Lat\": lats,\n",
    "                             \"Lng\": lngs,\n",
    "                             \"Temp\": temps,\n",
    "                             \"Cloud\": clouds,\n",
    "                             \"Humid\": humids,\n",
    "                             \"Winds\": winds})\n",
    "\n",
    "#TODO: Why aren't cloud and speed populating?\n",
    "responses_df.head()"
   ]
  },
  {
   "cell_type": "code",
   "execution_count": null,
   "metadata": {},
   "outputs": [],
   "source": [
    "# Output the dataframe to serve as breakpoint\n",
    "\n",
    "responses_df.to_csv(\"locations.csv\")"
   ]
  },
  {
   "cell_type": "code",
   "execution_count": null,
   "metadata": {},
   "outputs": [],
   "source": [
    "# Import CSV created above\n",
    "responses_df = pd.read_csv(\"responses.csv\")\n",
    "responses_df.head()"
   ]
  },
  {
   "cell_type": "markdown",
   "metadata": {},
   "source": [
    "### Plotting the Data\n",
    "* Use proper labeling of the plots using plot titles (including date of analysis) and axes labels.\n",
    "* Save the plotted figures as .pngs."
   ]
  },
  {
   "cell_type": "markdown",
   "metadata": {},
   "source": [
    "#### Latitude vs. Temperature Plot"
   ]
  },
  {
   "cell_type": "code",
   "execution_count": null,
   "metadata": {},
   "outputs": [],
   "source": [
    "plt.rcParams.update({\"font.size\": 22})\n",
    "plt.figure(figsize=(40,20))\n",
    "\n",
    "plt.scatter(responses_df[\"Lat\"],\n",
    "            responses_df[\"Temp\"],\n",
    "            s = 150,\n",
    "            )\n",
    "\n",
    "plt.xlabel(\"Latitude\", fontsize=24)\n",
    "plt.ylabel(\"Temperature\", fontsize=24)\n",
    "plt.title(\"Latitude vs. Temperature\", fontsize=24)\n",
    "\n",
    "plt.show()"
   ]
  },
  {
   "cell_type": "markdown",
   "metadata": {},
   "source": [
    "#### Latitude vs. Humidity Plot"
   ]
  },
  {
   "cell_type": "code",
   "execution_count": null,
   "metadata": {},
   "outputs": [],
   "source": [
    "plt.rcParams.update({\"font.size\": 22})\n",
    "plt.figure(figsize=(40,20))\n",
    "\n",
    "plt.scatter(responses_df[\"Lat\"],\n",
    "            responses_df[\"Humid\"],\n",
    "            s = 150,\n",
    "            )\n",
    "\n",
    "plt.xlabel(\"Latitude\", fontsize=24)\n",
    "plt.ylabel(\"Humidity\", fontsize=24)\n",
    "plt.title(\"Latitude vs. Humidity\", fontsize=24)\n",
    "\n",
    "plt.show()"
   ]
  },
  {
   "cell_type": "markdown",
   "metadata": {},
   "source": [
    "#### Latitude vs. Cloudiness Plot"
   ]
  },
  {
   "cell_type": "code",
   "execution_count": null,
   "metadata": {},
   "outputs": [],
   "source": [
    "plt.rcParams.update({\"font.size\": 22})\n",
    "plt.figure(figsize=(40,20))\n",
    "\n",
    "plt.scatter(responses_df[\"Lat\"],\n",
    "            responses_df[\"Cloud\"],\n",
    "            s = 150,\n",
    "            )\n",
    "\n",
    "plt.xlabel(\"Latitude\", fontsize=24)\n",
    "plt.ylabel(\"Cloudiness\", fontsize=24)\n",
    "plt.title(\"Latitude vs. Cloudiness\", fontsize=24)\n",
    "\n",
    "plt.show()"
   ]
  },
  {
   "cell_type": "markdown",
   "metadata": {},
   "source": [
    "#### Latitude vs. Wind Speed Plot"
   ]
  },
  {
   "cell_type": "code",
   "execution_count": null,
   "metadata": {},
   "outputs": [],
   "source": [
    "plt.rcParams.update({\"font.size\": 22})\n",
    "plt.figure(figsize=(40,20))\n",
    "\n",
    "plt.scatter(responses_df[\"Lat\"],\n",
    "            responses_df[\"Wind\"],\n",
    "            s = 150,\n",
    "            )\n",
    "\n",
    "plt.xlabel(\"Latitude\", fontsize=24)\n",
    "plt.ylabel(\"Wind Speed\", fontsize=24)\n",
    "plt.title(\"Latitude vs. Wind Speed\", fontsize=24)\n",
    "\n",
    "plt.show()"
   ]
  }
 ],
 "metadata": {
  "anaconda-cloud": {},
  "kernel_info": {
   "name": "python3"
  },
  "kernelspec": {
   "display_name": "Python 3",
   "language": "python",
   "name": "python3"
  },
  "language_info": {
   "codemirror_mode": {
    "name": "ipython",
    "version": 3
   },
   "file_extension": ".py",
   "mimetype": "text/x-python",
   "name": "python",
   "nbconvert_exporter": "python",
   "pygments_lexer": "ipython3",
   "version": "3.7.3"
  },
  "nteract": {
   "version": "0.12.3"
  }
 },
 "nbformat": 4,
 "nbformat_minor": 2
}
